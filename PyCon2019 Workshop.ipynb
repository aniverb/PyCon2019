{
 "cells": [
  {
   "cell_type": "markdown",
   "metadata": {},
   "source": [
    "## Tobi Bosede\n",
    "PyCon Workshop  \n",
    "May 2, 2019"
   ]
  },
  {
   "cell_type": "markdown",
   "metadata": {},
   "source": [
    "Purpose of this notebook is to describe algorithmic workflow, not real world implementation, as sample data is being used and Spark is absent."
   ]
  },
  {
   "cell_type": "code",
   "execution_count": 1,
   "metadata": {},
   "outputs": [],
   "source": [
    "import pandas as pd\n",
    "import numpy as np\n",
    "from scipy.signal import vectorstrength\n",
    "import time\n",
    "from sklearn.linear_model import LogisticRegression"
   ]
  },
  {
   "cell_type": "markdown",
   "metadata": {},
   "source": [
    "## Looking at gym class attendance  data\n",
    "Can begin forming hypothesis.  \n",
    "Those who are committed stay for full time and are early whereas those who are less commited might sometimes only come for portion of class"
   ]
  },
  {
   "cell_type": "code",
   "execution_count": 2,
   "metadata": {},
   "outputs": [],
   "source": [
    "df=pd.read_csv(\"sample_gym_data.csv\")"
   ]
  },
  {
   "cell_type": "code",
   "execution_count": 3,
   "metadata": {},
   "outputs": [
    {
     "data": {
      "text/html": [
       "<div>\n",
       "<style scoped>\n",
       "    .dataframe tbody tr th:only-of-type {\n",
       "        vertical-align: middle;\n",
       "    }\n",
       "\n",
       "    .dataframe tbody tr th {\n",
       "        vertical-align: top;\n",
       "    }\n",
       "\n",
       "    .dataframe thead th {\n",
       "        text-align: right;\n",
       "    }\n",
       "</style>\n",
       "<table border=\"1\" class=\"dataframe\">\n",
       "  <thead>\n",
       "    <tr style=\"text-align: right;\">\n",
       "      <th></th>\n",
       "      <th>Account</th>\n",
       "      <th>Class</th>\n",
       "      <th>Date</th>\n",
       "      <th>Hours_spent</th>\n",
       "    </tr>\n",
       "  </thead>\n",
       "  <tbody>\n",
       "    <tr>\n",
       "      <th>0</th>\n",
       "      <td>123</td>\n",
       "      <td>kickboxing</td>\n",
       "      <td>1/15/2019</td>\n",
       "      <td>1.10</td>\n",
       "    </tr>\n",
       "    <tr>\n",
       "      <th>1</th>\n",
       "      <td>345</td>\n",
       "      <td>kickboxing</td>\n",
       "      <td>1/15/2019</td>\n",
       "      <td>0.95</td>\n",
       "    </tr>\n",
       "    <tr>\n",
       "      <th>2</th>\n",
       "      <td>123</td>\n",
       "      <td>spin</td>\n",
       "      <td>1/17/2019</td>\n",
       "      <td>0.75</td>\n",
       "    </tr>\n",
       "    <tr>\n",
       "      <th>3</th>\n",
       "      <td>123</td>\n",
       "      <td>HIIT</td>\n",
       "      <td>1/12/2019</td>\n",
       "      <td>0.50</td>\n",
       "    </tr>\n",
       "    <tr>\n",
       "      <th>4</th>\n",
       "      <td>123</td>\n",
       "      <td>spin</td>\n",
       "      <td>1/20/2019</td>\n",
       "      <td>0.70</td>\n",
       "    </tr>\n",
       "  </tbody>\n",
       "</table>\n",
       "</div>"
      ],
      "text/plain": [
       "   Account       Class       Date  Hours_spent\n",
       "0      123  kickboxing  1/15/2019         1.10\n",
       "1      345  kickboxing  1/15/2019         0.95\n",
       "2      123        spin  1/17/2019         0.75\n",
       "3      123        HIIT  1/12/2019         0.50\n",
       "4      123        spin  1/20/2019         0.70"
      ]
     },
     "execution_count": 3,
     "metadata": {},
     "output_type": "execute_result"
    }
   ],
   "source": [
    "df.head()"
   ]
  },
  {
   "cell_type": "markdown",
   "metadata": {},
   "source": [
    "### Transforming Data  \t"
   ]
  },
  {
   "cell_type": "code",
   "execution_count": 4,
   "metadata": {},
   "outputs": [
    {
     "data": {
      "text/plain": [
       "array(['HIIT', 'kickboxing', 'spin', 'yoga'], dtype=object)"
      ]
     },
     "execution_count": 4,
     "metadata": {},
     "output_type": "execute_result"
    }
   ],
   "source": [
    "classes = np.unique(df[['Class']])\n",
    "classes"
   ]
  },
  {
   "cell_type": "code",
   "execution_count": 5,
   "metadata": {},
   "outputs": [
    {
     "data": {
      "text/plain": [
       "array([123, 345])"
      ]
     },
     "execution_count": 5,
     "metadata": {},
     "output_type": "execute_result"
    }
   ],
   "source": [
    "accounts = np.unique(df[['Account']])\n",
    "accounts"
   ]
  },
  {
   "cell_type": "code",
   "execution_count": 6,
   "metadata": {},
   "outputs": [],
   "source": [
    "df_i = pd.DataFrame()\n",
    "for j in accounts:\n",
    "    for i in classes:\n",
    "        df_s = df.loc[(df['Class'] == i) & (df['Account'] == j)]\n",
    "        if np.array(df_s.Date).size==0: \n",
    "            pass\n",
    "        else:\n",
    "            df_t = {'Account': [j],\n",
    "'Class': [i],\n",
    "'Dates': [np.array(df_s.Date)],\n",
    "'Hours_spent': [np.array(df_s.Hours_spent)]}\n",
    "            df_trans = pd.DataFrame(df_t)\n",
    "            df_i=df_i.append(df_trans)"
   ]
  },
  {
   "cell_type": "code",
   "execution_count": 7,
   "metadata": {},
   "outputs": [
    {
     "data": {
      "text/html": [
       "<div>\n",
       "<style scoped>\n",
       "    .dataframe tbody tr th:only-of-type {\n",
       "        vertical-align: middle;\n",
       "    }\n",
       "\n",
       "    .dataframe tbody tr th {\n",
       "        vertical-align: top;\n",
       "    }\n",
       "\n",
       "    .dataframe thead th {\n",
       "        text-align: right;\n",
       "    }\n",
       "</style>\n",
       "<table border=\"1\" class=\"dataframe\">\n",
       "  <thead>\n",
       "    <tr style=\"text-align: right;\">\n",
       "      <th></th>\n",
       "      <th>Account</th>\n",
       "      <th>Class</th>\n",
       "      <th>Dates</th>\n",
       "      <th>Hours_spent</th>\n",
       "    </tr>\n",
       "  </thead>\n",
       "  <tbody>\n",
       "    <tr>\n",
       "      <th>0</th>\n",
       "      <td>123</td>\n",
       "      <td>HIIT</td>\n",
       "      <td>[1/12/2019, 1/25/2019]</td>\n",
       "      <td>[0.5, 0.55]</td>\n",
       "    </tr>\n",
       "    <tr>\n",
       "      <th>0</th>\n",
       "      <td>123</td>\n",
       "      <td>kickboxing</td>\n",
       "      <td>[1/15/2019, 1/22/2019, 1/29/2019, 2/5/2019, 2/...</td>\n",
       "      <td>[1.1, 1.0, 1.0, 1.05, 1.05]</td>\n",
       "    </tr>\n",
       "    <tr>\n",
       "      <th>0</th>\n",
       "      <td>123</td>\n",
       "      <td>spin</td>\n",
       "      <td>[1/17/2019, 1/20/2019, 1/27/2019, 2/7/2019, 2/...</td>\n",
       "      <td>[0.75, 0.7, 0.75, 0.75, 0.7]</td>\n",
       "    </tr>\n",
       "    <tr>\n",
       "      <th>0</th>\n",
       "      <td>345</td>\n",
       "      <td>HIIT</td>\n",
       "      <td>[2/8/2019, 2/18/2019]</td>\n",
       "      <td>[0.44, 0.5]</td>\n",
       "    </tr>\n",
       "    <tr>\n",
       "      <th>0</th>\n",
       "      <td>345</td>\n",
       "      <td>kickboxing</td>\n",
       "      <td>[1/15/2019, 1/24/2019, 2/12/2019]</td>\n",
       "      <td>[0.95, 0.9, 0.9]</td>\n",
       "    </tr>\n",
       "    <tr>\n",
       "      <th>0</th>\n",
       "      <td>345</td>\n",
       "      <td>yoga</td>\n",
       "      <td>[1/20/2019, 1/27/2019, 2/3/2019, 2/10/2019]</td>\n",
       "      <td>[1.1, 1.15, 1.0, 1.1]</td>\n",
       "    </tr>\n",
       "  </tbody>\n",
       "</table>\n",
       "</div>"
      ],
      "text/plain": [
       "   Account       Class                                              Dates  \\\n",
       "0      123        HIIT                             [1/12/2019, 1/25/2019]   \n",
       "0      123  kickboxing  [1/15/2019, 1/22/2019, 1/29/2019, 2/5/2019, 2/...   \n",
       "0      123        spin  [1/17/2019, 1/20/2019, 1/27/2019, 2/7/2019, 2/...   \n",
       "0      345        HIIT                              [2/8/2019, 2/18/2019]   \n",
       "0      345  kickboxing                  [1/15/2019, 1/24/2019, 2/12/2019]   \n",
       "0      345        yoga        [1/20/2019, 1/27/2019, 2/3/2019, 2/10/2019]   \n",
       "\n",
       "                    Hours_spent  \n",
       "0                   [0.5, 0.55]  \n",
       "0   [1.1, 1.0, 1.0, 1.05, 1.05]  \n",
       "0  [0.75, 0.7, 0.75, 0.75, 0.7]  \n",
       "0                   [0.44, 0.5]  \n",
       "0              [0.95, 0.9, 0.9]  \n",
       "0         [1.1, 1.15, 1.0, 1.1]  "
      ]
     },
     "execution_count": 7,
     "metadata": {},
     "output_type": "execute_result"
    }
   ],
   "source": [
    "df_i"
   ]
  },
  {
   "cell_type": "markdown",
   "metadata": {},
   "source": [
    "### Generating labels"
   ]
  },
  {
   "cell_type": "markdown",
   "metadata": {},
   "source": [
    "From eyeballing the data, for gym member account:  \n",
    "- 123 kickboxing appears recurring, HIIT and spin does not.  \n",
    "- 345 yoga and kickboxing appear recurring, HIIT does not.\n",
    "\n",
    "We calculating vector strength considering periods of weekly and biweekly. "
   ]
  },
  {
   "cell_type": "code",
   "execution_count": 8,
   "metadata": {},
   "outputs": [
    {
     "data": {
      "text/plain": [
       "[0.9009688679025161,\n",
       " 1.0,\n",
       " 0.3685715414076013,\n",
       " 0.22252093395560107,\n",
       " 0.6757642804158898,\n",
       " 1.0]"
      ]
     },
     "execution_count": 8,
     "metadata": {},
     "output_type": "execute_result"
    }
   ],
   "source": [
    "vs7l=[]\n",
    "vs14l=[]\n",
    "for i in np.array(df_i.Dates):\n",
    "    time_epochs=[time.mktime(time.strptime(x, '%m/%d/%Y')) for x in i]\n",
    "    vs7, vs14=vectorstrength(time_epochs, [604800, 604800*2])[0]\n",
    "    vs7l.append(vs7)\n",
    "    vs14l.append(vs14)\n",
    "vs7l   "
   ]
  },
  {
   "cell_type": "code",
   "execution_count": 9,
   "metadata": {},
   "outputs": [
    {
     "data": {
      "text/plain": [
       "[0.9749279121818485,\n",
       " 0.19999999999999998,\n",
       " 0.20000000000006302,\n",
       " 0.6234898018590196,\n",
       " 0.5276826479539619,\n",
       " 2.8960927447468397e-13]"
      ]
     },
     "execution_count": 9,
     "metadata": {},
     "output_type": "execute_result"
    }
   ],
   "source": [
    "vs14l"
   ]
  },
  {
   "cell_type": "code",
   "execution_count": 10,
   "metadata": {},
   "outputs": [
    {
     "data": {
      "text/plain": [
       "array([1, 1, 0, 0, 0, 1])"
      ]
     },
     "execution_count": 10,
     "metadata": {},
     "output_type": "execute_result"
    }
   ],
   "source": [
    "label=(np.array(vs7l)>.9) | (np.array(vs14l)>.9)*1\n",
    "label"
   ]
  },
  {
   "cell_type": "code",
   "execution_count": 11,
   "metadata": {},
   "outputs": [
    {
     "data": {
      "text/html": [
       "<div>\n",
       "<style scoped>\n",
       "    .dataframe tbody tr th:only-of-type {\n",
       "        vertical-align: middle;\n",
       "    }\n",
       "\n",
       "    .dataframe tbody tr th {\n",
       "        vertical-align: top;\n",
       "    }\n",
       "\n",
       "    .dataframe thead th {\n",
       "        text-align: right;\n",
       "    }\n",
       "</style>\n",
       "<table border=\"1\" class=\"dataframe\">\n",
       "  <thead>\n",
       "    <tr style=\"text-align: right;\">\n",
       "      <th></th>\n",
       "      <th>Account</th>\n",
       "      <th>Class</th>\n",
       "      <th>Dates</th>\n",
       "      <th>Hours_spent</th>\n",
       "      <th>Recurring</th>\n",
       "    </tr>\n",
       "  </thead>\n",
       "  <tbody>\n",
       "    <tr>\n",
       "      <th>0</th>\n",
       "      <td>123</td>\n",
       "      <td>HIIT</td>\n",
       "      <td>[1/12/2019, 1/25/2019]</td>\n",
       "      <td>[0.5, 0.55]</td>\n",
       "      <td>1</td>\n",
       "    </tr>\n",
       "    <tr>\n",
       "      <th>0</th>\n",
       "      <td>123</td>\n",
       "      <td>kickboxing</td>\n",
       "      <td>[1/15/2019, 1/22/2019, 1/29/2019, 2/5/2019, 2/...</td>\n",
       "      <td>[1.1, 1.0, 1.0, 1.05, 1.05]</td>\n",
       "      <td>1</td>\n",
       "    </tr>\n",
       "    <tr>\n",
       "      <th>0</th>\n",
       "      <td>123</td>\n",
       "      <td>spin</td>\n",
       "      <td>[1/17/2019, 1/20/2019, 1/27/2019, 2/7/2019, 2/...</td>\n",
       "      <td>[0.75, 0.7, 0.75, 0.75, 0.7]</td>\n",
       "      <td>0</td>\n",
       "    </tr>\n",
       "    <tr>\n",
       "      <th>0</th>\n",
       "      <td>345</td>\n",
       "      <td>HIIT</td>\n",
       "      <td>[2/8/2019, 2/18/2019]</td>\n",
       "      <td>[0.44, 0.5]</td>\n",
       "      <td>0</td>\n",
       "    </tr>\n",
       "    <tr>\n",
       "      <th>0</th>\n",
       "      <td>345</td>\n",
       "      <td>kickboxing</td>\n",
       "      <td>[1/15/2019, 1/24/2019, 2/12/2019]</td>\n",
       "      <td>[0.95, 0.9, 0.9]</td>\n",
       "      <td>0</td>\n",
       "    </tr>\n",
       "    <tr>\n",
       "      <th>0</th>\n",
       "      <td>345</td>\n",
       "      <td>yoga</td>\n",
       "      <td>[1/20/2019, 1/27/2019, 2/3/2019, 2/10/2019]</td>\n",
       "      <td>[1.1, 1.15, 1.0, 1.1]</td>\n",
       "      <td>1</td>\n",
       "    </tr>\n",
       "  </tbody>\n",
       "</table>\n",
       "</div>"
      ],
      "text/plain": [
       "   Account       Class                                              Dates  \\\n",
       "0      123        HIIT                             [1/12/2019, 1/25/2019]   \n",
       "0      123  kickboxing  [1/15/2019, 1/22/2019, 1/29/2019, 2/5/2019, 2/...   \n",
       "0      123        spin  [1/17/2019, 1/20/2019, 1/27/2019, 2/7/2019, 2/...   \n",
       "0      345        HIIT                              [2/8/2019, 2/18/2019]   \n",
       "0      345  kickboxing                  [1/15/2019, 1/24/2019, 2/12/2019]   \n",
       "0      345        yoga        [1/20/2019, 1/27/2019, 2/3/2019, 2/10/2019]   \n",
       "\n",
       "                    Hours_spent  Recurring  \n",
       "0                   [0.5, 0.55]          1  \n",
       "0   [1.1, 1.0, 1.0, 1.05, 1.05]          1  \n",
       "0  [0.75, 0.7, 0.75, 0.75, 0.7]          0  \n",
       "0                   [0.44, 0.5]          0  \n",
       "0              [0.95, 0.9, 0.9]          0  \n",
       "0         [1.1, 1.15, 1.0, 1.1]          1  "
      ]
     },
     "execution_count": 11,
     "metadata": {},
     "output_type": "execute_result"
    }
   ],
   "source": [
    "df_i[\"Recurring\"]=label\n",
    "df_i"
   ]
  },
  {
   "cell_type": "markdown",
   "metadata": {},
   "source": [
    "### Creating Features\n",
    "We calculate mean delta_t, sd delta_t, mean_hours, and sd_hours.\t"
   ]
  },
  {
   "cell_type": "code",
   "execution_count": 12,
   "metadata": {},
   "outputs": [
    {
     "data": {
      "text/plain": [
       "[13.0, 7.0, 5.75, 10.0, 14.0, 7.0]"
      ]
     },
     "execution_count": 12,
     "metadata": {},
     "output_type": "execute_result"
    }
   ],
   "source": [
    "dtmeans=[]\n",
    "dtSDs=[]\n",
    "for i in np.array(df_i.Dates):\n",
    "    time_epochs=[time.mktime(time.strptime(x, '%m/%d/%Y')) for x in i]\n",
    "    dt=[(j-i)/(60*60*24) for i, j, in zip(time_epochs[:-1], time_epochs[1:])]\n",
    "    dtMean=np.mean(dt)\n",
    "    dtSD=np.std(dt)\n",
    "    dtmeans.append(dtMean)\n",
    "    dtSDs.append(dtSD)\n",
    "dtmeans "
   ]
  },
  {
   "cell_type": "code",
   "execution_count": 9,
   "metadata": {},
   "outputs": [
    {
     "data": {
      "text/plain": [
       "[0.0, 0.0, 3.5619517121937516, 0.0, 5.0, 0.0]"
      ]
     },
     "execution_count": 9,
     "metadata": {},
     "output_type": "execute_result"
    }
   ],
   "source": [
    "dtSDs"
   ]
  },
  {
   "cell_type": "code",
   "execution_count": 13,
   "metadata": {},
   "outputs": [
    {
     "data": {
      "text/html": [
       "<div>\n",
       "<style scoped>\n",
       "    .dataframe tbody tr th:only-of-type {\n",
       "        vertical-align: middle;\n",
       "    }\n",
       "\n",
       "    .dataframe tbody tr th {\n",
       "        vertical-align: top;\n",
       "    }\n",
       "\n",
       "    .dataframe thead th {\n",
       "        text-align: right;\n",
       "    }\n",
       "</style>\n",
       "<table border=\"1\" class=\"dataframe\">\n",
       "  <thead>\n",
       "    <tr style=\"text-align: right;\">\n",
       "      <th></th>\n",
       "      <th>Account</th>\n",
       "      <th>Class</th>\n",
       "      <th>Dates</th>\n",
       "      <th>Hours_spent</th>\n",
       "      <th>Recurring</th>\n",
       "      <th>mean_delta_t</th>\n",
       "      <th>sd_delta_t</th>\n",
       "      <th>mean_hours</th>\n",
       "      <th>sd_hours</th>\n",
       "      <th>vector_strength</th>\n",
       "    </tr>\n",
       "  </thead>\n",
       "  <tbody>\n",
       "    <tr>\n",
       "      <th>0</th>\n",
       "      <td>123</td>\n",
       "      <td>HIIT</td>\n",
       "      <td>[1/12/2019, 1/25/2019]</td>\n",
       "      <td>[0.5, 0.55]</td>\n",
       "      <td>1</td>\n",
       "      <td>13.00</td>\n",
       "      <td>0.000000</td>\n",
       "      <td>0.525000</td>\n",
       "      <td>0.025000</td>\n",
       "      <td>0.900969</td>\n",
       "    </tr>\n",
       "    <tr>\n",
       "      <th>0</th>\n",
       "      <td>123</td>\n",
       "      <td>kickboxing</td>\n",
       "      <td>[1/15/2019, 1/22/2019, 1/29/2019, 2/5/2019, 2/...</td>\n",
       "      <td>[1.1, 1.0, 1.0, 1.05, 1.05]</td>\n",
       "      <td>1</td>\n",
       "      <td>7.00</td>\n",
       "      <td>0.000000</td>\n",
       "      <td>1.040000</td>\n",
       "      <td>0.037417</td>\n",
       "      <td>1.000000</td>\n",
       "    </tr>\n",
       "    <tr>\n",
       "      <th>0</th>\n",
       "      <td>123</td>\n",
       "      <td>spin</td>\n",
       "      <td>[1/17/2019, 1/20/2019, 1/27/2019, 2/7/2019, 2/...</td>\n",
       "      <td>[0.75, 0.7, 0.75, 0.75, 0.7]</td>\n",
       "      <td>0</td>\n",
       "      <td>5.75</td>\n",
       "      <td>3.561952</td>\n",
       "      <td>0.730000</td>\n",
       "      <td>0.024495</td>\n",
       "      <td>0.368572</td>\n",
       "    </tr>\n",
       "    <tr>\n",
       "      <th>0</th>\n",
       "      <td>345</td>\n",
       "      <td>HIIT</td>\n",
       "      <td>[2/8/2019, 2/18/2019]</td>\n",
       "      <td>[0.44, 0.5]</td>\n",
       "      <td>0</td>\n",
       "      <td>10.00</td>\n",
       "      <td>0.000000</td>\n",
       "      <td>0.470000</td>\n",
       "      <td>0.030000</td>\n",
       "      <td>0.222521</td>\n",
       "    </tr>\n",
       "    <tr>\n",
       "      <th>0</th>\n",
       "      <td>345</td>\n",
       "      <td>kickboxing</td>\n",
       "      <td>[1/15/2019, 1/24/2019, 2/12/2019]</td>\n",
       "      <td>[0.95, 0.9, 0.9]</td>\n",
       "      <td>0</td>\n",
       "      <td>14.00</td>\n",
       "      <td>5.000000</td>\n",
       "      <td>0.916667</td>\n",
       "      <td>0.023570</td>\n",
       "      <td>0.675764</td>\n",
       "    </tr>\n",
       "    <tr>\n",
       "      <th>0</th>\n",
       "      <td>345</td>\n",
       "      <td>yoga</td>\n",
       "      <td>[1/20/2019, 1/27/2019, 2/3/2019, 2/10/2019]</td>\n",
       "      <td>[1.1, 1.15, 1.0, 1.1]</td>\n",
       "      <td>1</td>\n",
       "      <td>7.00</td>\n",
       "      <td>0.000000</td>\n",
       "      <td>1.087500</td>\n",
       "      <td>0.054486</td>\n",
       "      <td>1.000000</td>\n",
       "    </tr>\n",
       "  </tbody>\n",
       "</table>\n",
       "</div>"
      ],
      "text/plain": [
       "   Account       Class                                              Dates  \\\n",
       "0      123        HIIT                             [1/12/2019, 1/25/2019]   \n",
       "0      123  kickboxing  [1/15/2019, 1/22/2019, 1/29/2019, 2/5/2019, 2/...   \n",
       "0      123        spin  [1/17/2019, 1/20/2019, 1/27/2019, 2/7/2019, 2/...   \n",
       "0      345        HIIT                              [2/8/2019, 2/18/2019]   \n",
       "0      345  kickboxing                  [1/15/2019, 1/24/2019, 2/12/2019]   \n",
       "0      345        yoga        [1/20/2019, 1/27/2019, 2/3/2019, 2/10/2019]   \n",
       "\n",
       "                    Hours_spent  Recurring  mean_delta_t  sd_delta_t  \\\n",
       "0                   [0.5, 0.55]          1         13.00    0.000000   \n",
       "0   [1.1, 1.0, 1.0, 1.05, 1.05]          1          7.00    0.000000   \n",
       "0  [0.75, 0.7, 0.75, 0.75, 0.7]          0          5.75    3.561952   \n",
       "0                   [0.44, 0.5]          0         10.00    0.000000   \n",
       "0              [0.95, 0.9, 0.9]          0         14.00    5.000000   \n",
       "0         [1.1, 1.15, 1.0, 1.1]          1          7.00    0.000000   \n",
       "\n",
       "   mean_hours  sd_hours  vector_strength  \n",
       "0    0.525000  0.025000         0.900969  \n",
       "0    1.040000  0.037417         1.000000  \n",
       "0    0.730000  0.024495         0.368572  \n",
       "0    0.470000  0.030000         0.222521  \n",
       "0    0.916667  0.023570         0.675764  \n",
       "0    1.087500  0.054486         1.000000  "
      ]
     },
     "execution_count": 13,
     "metadata": {},
     "output_type": "execute_result"
    }
   ],
   "source": [
    "df_i[\"mean_delta_t\"]=dtmeans\n",
    "df_i[\"sd_delta_t\"]=dtSDs\n",
    "df_i[\"mean_hours\"]=[np.mean(i) for i in np.array(df_i.Hours_spent)]\n",
    "df_i[\"sd_hours\"]=[np.std(i) for i in np.array(df_i.Hours_spent)]\n",
    "df_i[\"vector_strength\"]=vs7l\n",
    "df_i"
   ]
  },
  {
   "cell_type": "code",
   "execution_count": 14,
   "metadata": {},
   "outputs": [
    {
     "data": {
      "text/html": [
       "<div>\n",
       "<style scoped>\n",
       "    .dataframe tbody tr th:only-of-type {\n",
       "        vertical-align: middle;\n",
       "    }\n",
       "\n",
       "    .dataframe tbody tr th {\n",
       "        vertical-align: top;\n",
       "    }\n",
       "\n",
       "    .dataframe thead th {\n",
       "        text-align: right;\n",
       "    }\n",
       "</style>\n",
       "<table border=\"1\" class=\"dataframe\">\n",
       "  <thead>\n",
       "    <tr style=\"text-align: right;\">\n",
       "      <th></th>\n",
       "      <th>vector_strength</th>\n",
       "      <th>mean_hours</th>\n",
       "      <th>sd_hours</th>\n",
       "      <th>mean_delta_t</th>\n",
       "      <th>sd_delta_t</th>\n",
       "    </tr>\n",
       "  </thead>\n",
       "  <tbody>\n",
       "    <tr>\n",
       "      <th>0</th>\n",
       "      <td>0.900969</td>\n",
       "      <td>0.525000</td>\n",
       "      <td>0.025000</td>\n",
       "      <td>13.00</td>\n",
       "      <td>0.000000</td>\n",
       "    </tr>\n",
       "    <tr>\n",
       "      <th>0</th>\n",
       "      <td>1.000000</td>\n",
       "      <td>1.040000</td>\n",
       "      <td>0.037417</td>\n",
       "      <td>7.00</td>\n",
       "      <td>0.000000</td>\n",
       "    </tr>\n",
       "    <tr>\n",
       "      <th>0</th>\n",
       "      <td>0.368572</td>\n",
       "      <td>0.730000</td>\n",
       "      <td>0.024495</td>\n",
       "      <td>5.75</td>\n",
       "      <td>3.561952</td>\n",
       "    </tr>\n",
       "    <tr>\n",
       "      <th>0</th>\n",
       "      <td>0.222521</td>\n",
       "      <td>0.470000</td>\n",
       "      <td>0.030000</td>\n",
       "      <td>10.00</td>\n",
       "      <td>0.000000</td>\n",
       "    </tr>\n",
       "    <tr>\n",
       "      <th>0</th>\n",
       "      <td>0.675764</td>\n",
       "      <td>0.916667</td>\n",
       "      <td>0.023570</td>\n",
       "      <td>14.00</td>\n",
       "      <td>5.000000</td>\n",
       "    </tr>\n",
       "  </tbody>\n",
       "</table>\n",
       "</div>"
      ],
      "text/plain": [
       "   vector_strength  mean_hours  sd_hours  mean_delta_t  sd_delta_t\n",
       "0         0.900969    0.525000  0.025000         13.00    0.000000\n",
       "0         1.000000    1.040000  0.037417          7.00    0.000000\n",
       "0         0.368572    0.730000  0.024495          5.75    3.561952\n",
       "0         0.222521    0.470000  0.030000         10.00    0.000000\n",
       "0         0.675764    0.916667  0.023570         14.00    5.000000"
      ]
     },
     "execution_count": 14,
     "metadata": {},
     "output_type": "execute_result"
    }
   ],
   "source": [
    "df_iFeat=df_i\n",
    "df_iTarg=np.array(df_iFeat[[\"Recurring\"]])\n",
    "df_iFeat=df_iFeat[[\"vector_strength\",\"mean_hours\", \"sd_hours\", \"mean_delta_t\", \"sd_delta_t\"]]\n",
    "df_iFeat.head()"
   ]
  },
  {
   "cell_type": "markdown",
   "metadata": {},
   "source": [
    "### Training Model"
   ]
  },
  {
   "cell_type": "markdown",
   "metadata": {},
   "source": [
    "Skipping dividing into test and train intentionally because data small.  \n",
    "Using train data for testing. (WOULD NOT DO IN PRACTICE) \t"
   ]
  },
  {
   "cell_type": "code",
   "execution_count": 15,
   "metadata": {},
   "outputs": [],
   "source": [
    "X, y = np.array(df_iFeat),  np.reshape(df_iTarg, (6,))\n",
    "clf = LogisticRegression(random_state=0, solver='lbfgs').fit(X, y)"
   ]
  },
  {
   "cell_type": "markdown",
   "metadata": {},
   "source": [
    "### Prediction with Model\n",
    "Not great, since small amount of data."
   ]
  },
  {
   "cell_type": "code",
   "execution_count": 16,
   "metadata": {},
   "outputs": [
    {
     "data": {
      "text/plain": [
       "array([1, 1, 0, 1, 0, 1])"
      ]
     },
     "execution_count": 16,
     "metadata": {},
     "output_type": "execute_result"
    }
   ],
   "source": [
    "clf.predict(X)"
   ]
  },
  {
   "cell_type": "code",
   "execution_count": 17,
   "metadata": {},
   "outputs": [
    {
     "data": {
      "text/plain": [
       "array([1, 1, 0, 0, 0, 1])"
      ]
     },
     "execution_count": 17,
     "metadata": {},
     "output_type": "execute_result"
    }
   ],
   "source": [
    "label"
   ]
  },
  {
   "cell_type": "code",
   "execution_count": 18,
   "metadata": {},
   "outputs": [
    {
     "data": {
      "text/plain": [
       "array([[0.32611905, 0.67388095],\n",
       "       [0.23869954, 0.76130046],\n",
       "       [0.86039918, 0.13960082],\n",
       "       [0.38526909, 0.61473091],\n",
       "       [0.95293972, 0.04706028],\n",
       "       [0.23658871, 0.76341129]])"
      ]
     },
     "execution_count": 18,
     "metadata": {},
     "output_type": "execute_result"
    }
   ],
   "source": [
    "clf.predict_proba(X) #probabilities of both classes, each row adds to 1"
   ]
  },
  {
   "cell_type": "code",
   "execution_count": null,
   "metadata": {},
   "outputs": [],
   "source": []
  }
 ],
 "metadata": {
  "kernelspec": {
   "display_name": "Python 3",
   "language": "python",
   "name": "python3"
  },
  "language_info": {
   "codemirror_mode": {
    "name": "ipython",
    "version": 3
   },
   "file_extension": ".py",
   "mimetype": "text/x-python",
   "name": "python",
   "nbconvert_exporter": "python",
   "pygments_lexer": "ipython3",
   "version": "3.6.4"
  }
 },
 "nbformat": 4,
 "nbformat_minor": 2
}
